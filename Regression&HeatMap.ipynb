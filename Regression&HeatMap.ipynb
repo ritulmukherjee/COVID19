{
 "cells": [
  {
   "cell_type": "code",
   "execution_count": 78,
   "metadata": {},
   "outputs": [],
   "source": [
    "import numpy as np\n",
    "import matplotlib.pyplot as plt\n",
    "import pandas as pd\n",
    "%matplotlib inline\n",
    "import seaborn as sns"
   ]
  },
  {
   "cell_type": "code",
   "execution_count": 79,
   "metadata": {},
   "outputs": [],
   "source": [
    "dataset1 = pd.read_csv('Prediction1.csv') "
   ]
  },
  {
   "cell_type": "code",
   "execution_count": 80,
   "metadata": {},
   "outputs": [
    {
     "data": {
      "text/html": [
       "<div>\n",
       "<style scoped>\n",
       "    .dataframe tbody tr th:only-of-type {\n",
       "        vertical-align: middle;\n",
       "    }\n",
       "\n",
       "    .dataframe tbody tr th {\n",
       "        vertical-align: top;\n",
       "    }\n",
       "\n",
       "    .dataframe thead th {\n",
       "        text-align: right;\n",
       "    }\n",
       "</style>\n",
       "<table border=\"1\" class=\"dataframe\">\n",
       "  <thead>\n",
       "    <tr style=\"text-align: right;\">\n",
       "      <th></th>\n",
       "      <th>Date</th>\n",
       "      <th>Name of State / UT</th>\n",
       "      <th>Confirmed</th>\n",
       "      <th>Death</th>\n",
       "      <th>Cured</th>\n",
       "      <th>New cases</th>\n",
       "      <th>New deaths</th>\n",
       "      <th>New recovered</th>\n",
       "    </tr>\n",
       "  </thead>\n",
       "  <tbody>\n",
       "    <tr>\n",
       "      <th>0</th>\n",
       "      <td>1/30/2020</td>\n",
       "      <td>Kerala</td>\n",
       "      <td>1</td>\n",
       "      <td>0</td>\n",
       "      <td>0</td>\n",
       "      <td>0</td>\n",
       "      <td>0</td>\n",
       "      <td>0</td>\n",
       "    </tr>\n",
       "    <tr>\n",
       "      <th>1</th>\n",
       "      <td>1/31/2020</td>\n",
       "      <td>Kerala</td>\n",
       "      <td>1</td>\n",
       "      <td>0</td>\n",
       "      <td>0</td>\n",
       "      <td>0</td>\n",
       "      <td>0</td>\n",
       "      <td>0</td>\n",
       "    </tr>\n",
       "    <tr>\n",
       "      <th>2</th>\n",
       "      <td>2/1/2020</td>\n",
       "      <td>Kerala</td>\n",
       "      <td>2</td>\n",
       "      <td>0</td>\n",
       "      <td>0</td>\n",
       "      <td>1</td>\n",
       "      <td>0</td>\n",
       "      <td>0</td>\n",
       "    </tr>\n",
       "    <tr>\n",
       "      <th>3</th>\n",
       "      <td>2/2/2020</td>\n",
       "      <td>Kerala</td>\n",
       "      <td>3</td>\n",
       "      <td>0</td>\n",
       "      <td>0</td>\n",
       "      <td>1</td>\n",
       "      <td>0</td>\n",
       "      <td>0</td>\n",
       "    </tr>\n",
       "    <tr>\n",
       "      <th>4</th>\n",
       "      <td>2/3/2020</td>\n",
       "      <td>Kerala</td>\n",
       "      <td>3</td>\n",
       "      <td>0</td>\n",
       "      <td>0</td>\n",
       "      <td>0</td>\n",
       "      <td>0</td>\n",
       "      <td>0</td>\n",
       "    </tr>\n",
       "    <tr>\n",
       "      <th>...</th>\n",
       "      <td>...</td>\n",
       "      <td>...</td>\n",
       "      <td>...</td>\n",
       "      <td>...</td>\n",
       "      <td>...</td>\n",
       "      <td>...</td>\n",
       "      <td>...</td>\n",
       "      <td>...</td>\n",
       "    </tr>\n",
       "    <tr>\n",
       "      <th>170</th>\n",
       "      <td>7/23/2020</td>\n",
       "      <td>Kerala</td>\n",
       "      <td>15032</td>\n",
       "      <td>45</td>\n",
       "      <td>6162</td>\n",
       "      <td>1038</td>\n",
       "      <td>1</td>\n",
       "      <td>272</td>\n",
       "    </tr>\n",
       "    <tr>\n",
       "      <th>171</th>\n",
       "      <td>7/24/2020</td>\n",
       "      <td>Kerala</td>\n",
       "      <td>16110</td>\n",
       "      <td>50</td>\n",
       "      <td>6594</td>\n",
       "      <td>1078</td>\n",
       "      <td>5</td>\n",
       "      <td>432</td>\n",
       "    </tr>\n",
       "    <tr>\n",
       "      <th>172</th>\n",
       "      <td>7/25/2020</td>\n",
       "      <td>Kerala</td>\n",
       "      <td>16995</td>\n",
       "      <td>54</td>\n",
       "      <td>7562</td>\n",
       "      <td>885</td>\n",
       "      <td>4</td>\n",
       "      <td>968</td>\n",
       "    </tr>\n",
       "    <tr>\n",
       "      <th>173</th>\n",
       "      <td>7/26/2020</td>\n",
       "      <td>Kerala</td>\n",
       "      <td>18098</td>\n",
       "      <td>59</td>\n",
       "      <td>8611</td>\n",
       "      <td>1103</td>\n",
       "      <td>5</td>\n",
       "      <td>1049</td>\n",
       "    </tr>\n",
       "    <tr>\n",
       "      <th>174</th>\n",
       "      <td>7/27/2020</td>\n",
       "      <td>Kerala</td>\n",
       "      <td>19025</td>\n",
       "      <td>61</td>\n",
       "      <td>9300</td>\n",
       "      <td>927</td>\n",
       "      <td>2</td>\n",
       "      <td>689</td>\n",
       "    </tr>\n",
       "  </tbody>\n",
       "</table>\n",
       "<p>175 rows × 8 columns</p>\n",
       "</div>"
      ],
      "text/plain": [
       "          Date Name of State / UT  Confirmed  Death  Cured  New cases  \\\n",
       "0    1/30/2020             Kerala          1      0      0          0   \n",
       "1    1/31/2020             Kerala          1      0      0          0   \n",
       "2     2/1/2020             Kerala          2      0      0          1   \n",
       "3     2/2/2020             Kerala          3      0      0          1   \n",
       "4     2/3/2020             Kerala          3      0      0          0   \n",
       "..         ...                ...        ...    ...    ...        ...   \n",
       "170  7/23/2020             Kerala      15032     45   6162       1038   \n",
       "171  7/24/2020             Kerala      16110     50   6594       1078   \n",
       "172  7/25/2020             Kerala      16995     54   7562        885   \n",
       "173  7/26/2020             Kerala      18098     59   8611       1103   \n",
       "174  7/27/2020             Kerala      19025     61   9300        927   \n",
       "\n",
       "     New deaths  New recovered  \n",
       "0             0              0  \n",
       "1             0              0  \n",
       "2             0              0  \n",
       "3             0              0  \n",
       "4             0              0  \n",
       "..          ...            ...  \n",
       "170           1            272  \n",
       "171           5            432  \n",
       "172           4            968  \n",
       "173           5           1049  \n",
       "174           2            689  \n",
       "\n",
       "[175 rows x 8 columns]"
      ]
     },
     "execution_count": 80,
     "metadata": {},
     "output_type": "execute_result"
    }
   ],
   "source": [
    "dataset1"
   ]
  },
  {
   "cell_type": "code",
   "execution_count": 81,
   "metadata": {},
   "outputs": [],
   "source": [
    "dataset = dataset1[['Name of State / UT','Confirmed','Death','Cured']]"
   ]
  },
  {
   "cell_type": "code",
   "execution_count": 82,
   "metadata": {},
   "outputs": [
    {
     "data": {
      "image/png": "[encoded data removed]",
      "text/plain": [
       "<Figure size 432x288 with 1 Axes>"
      ]
     },
     "metadata": {
      "needs_background": "light"
     },
     "output_type": "display_data"
    }
   ],
   "source": [
    "plt.scatter(dataset.Cured, dataset.Death,  color='blue')\n",
    "plt.xlabel(\"Recovered\")\n",
    "plt.ylabel(\"No of deaths\")\n",
    "plt.show()"
   ]
  },
  {
   "cell_type": "code",
   "execution_count": 83,
   "metadata": {},
   "outputs": [
    {
     "data": {
      "image/png": "[encoded data removed]",
      "text/plain": [
       "<Figure size 432x288 with 1 Axes>"
      ]
     },
     "metadata": {
      "needs_background": "light"
     },
     "output_type": "display_data"
    }
   ],
   "source": [
    "plt.scatter(dataset.Cured, dataset.Confirmed,  color='blue')\n",
    "plt.xlabel(\"Recovered\")\n",
    "plt.ylabel(\"Confirmed Cases\")\n",
    "plt.show()"
   ]
  },
  {
   "cell_type": "code",
   "execution_count": 84,
   "metadata": {},
   "outputs": [
    {
     "data": {
      "image/png": "[encoded data removed]",
      "text/plain": [
       "<Figure size 432x288 with 1 Axes>"
      ]
     },
     "metadata": {
      "needs_background": "light"
     },
     "output_type": "display_data"
    }
   ],
   "source": [
    "plt.scatter(dataset.Death, dataset.Confirmed,  color='blue')\n",
    "plt.xlabel(\"Deaths\")\n",
    "plt.ylabel(\"Confirmed Cases\")\n",
    "plt.show()"
   ]
  },
  {
   "cell_type": "code",
   "execution_count": 85,
   "metadata": {},
   "outputs": [],
   "source": [
    "msk = np.random.rand(len(dataset)) < 0.8\n",
    "#numpy.random.rand(d0, d1, …, dn) : creates an array of specified shape and fills it with random values.\n",
    "train = dataset[msk]\n",
    "test = dataset[~msk]"
   ]
  },
  {
   "cell_type": "code",
   "execution_count": 92,
   "metadata": {},
   "outputs": [
    {
     "name": "stdout",
     "output_type": "stream",
     "text": [
      "Coefficients:  [[0.45864742]]\n",
      "Intercept:  [70.90782631]\n"
     ]
    }
   ],
   "source": [
    "from sklearn import linear_model\n",
    "regr = linear_model.LinearRegression()\n",
    "train_x = np.asanyarray(train[['Confirmed']])  #numpy.asanyarray()function is used when we want to convert input to an array\n",
    "train_y = np.asanyarray(train[['Cured']])\n",
    "regr.fit (train_x, train_y)\n",
    "# The coefficients\n",
    "print ('Coefficients: ', regr.coef_)\n",
    "print ('Intercept: ',regr.intercept_)"
   ]
  },
  {
   "cell_type": "code",
   "execution_count": 93,
   "metadata": {},
   "outputs": [
    {
     "data": {
      "text/plain": [
       "array([[    1],\n",
       "       [    1],\n",
       "       [    2],\n",
       "       [    3],\n",
       "       [    3],\n",
       "       [    3],\n",
       "       [    3],\n",
       "       [    3],\n",
       "       [    3],\n",
       "       [    3],\n",
       "       [    3],\n",
       "       [    3],\n",
       "       [    3],\n",
       "       [    3],\n",
       "       [    3],\n",
       "       [    3],\n",
       "       [    3],\n",
       "       [    3],\n",
       "       [    3],\n",
       "       [    3],\n",
       "       [    3],\n",
       "       [    3],\n",
       "       [    3],\n",
       "       [    3],\n",
       "       [    3],\n",
       "       [    3],\n",
       "       [    3],\n",
       "       [    3],\n",
       "       [    3],\n",
       "       [    3],\n",
       "       [    3],\n",
       "       [    8],\n",
       "       [    9],\n",
       "       [   15],\n",
       "       [   17],\n",
       "       [   17],\n",
       "       [   17],\n",
       "       [   19],\n",
       "       [   23],\n",
       "       [   23],\n",
       "       [   26],\n",
       "       [   27],\n",
       "       [   40],\n",
       "       [   52],\n",
       "       [   67],\n",
       "       [   95],\n",
       "       [  109],\n",
       "       [  118],\n",
       "       [  176],\n",
       "       [  182],\n",
       "       [  194],\n",
       "       [  234],\n",
       "       [  241],\n",
       "       [  265],\n",
       "       [  286],\n",
       "       [  306],\n",
       "       [  314],\n",
       "       [  327],\n",
       "       [  336],\n",
       "       [  357],\n",
       "       [  364],\n",
       "       [  376],\n",
       "       [  388],\n",
       "       [  395],\n",
       "       [  396],\n",
       "       [  408],\n",
       "       [  450],\n",
       "       [  457],\n",
       "       [  458],\n",
       "       [  481],\n",
       "       [  485],\n",
       "       [  497],\n",
       "       [  497],\n",
       "       [  499],\n",
       "       [  500],\n",
       "       [  500],\n",
       "       [  502],\n",
       "       [  503],\n",
       "       [  503],\n",
       "       [  505],\n",
       "       [  512],\n",
       "       [  519],\n",
       "       [  524],\n",
       "       [  534],\n",
       "       [  560],\n",
       "       [  576],\n",
       "       [  587],\n",
       "       [  601],\n",
       "       [  630],\n",
       "       [  642],\n",
       "       [  666],\n",
       "       [  732],\n",
       "       [  795],\n",
       "       [  847],\n",
       "       [  896],\n",
       "       [  963],\n",
       "       [ 1088],\n",
       "       [ 1150],\n",
       "       [ 1208],\n",
       "       [ 1269],\n",
       "       [ 1326],\n",
       "       [ 1412],\n",
       "       [ 1494],\n",
       "       [ 1699],\n",
       "       [ 1807],\n",
       "       [ 1914],\n",
       "       [ 2096],\n",
       "       [ 2161],\n",
       "       [ 2244],\n",
       "       [ 2322],\n",
       "       [ 2407],\n",
       "       [ 2461],\n",
       "       [ 2543],\n",
       "       [ 2622],\n",
       "       [ 2697],\n",
       "       [ 2794],\n",
       "       [ 2912],\n",
       "       [ 3039],\n",
       "       [ 3172],\n",
       "       [ 3310],\n",
       "       [ 3451],\n",
       "       [ 3603],\n",
       "       [ 3876],\n",
       "       [ 4071],\n",
       "       [ 4189],\n",
       "       [ 4189],\n",
       "       [ 4753],\n",
       "       [ 5622],\n",
       "       [ 5894],\n",
       "       [ 6195],\n",
       "       [ 6534],\n",
       "       [ 6950],\n",
       "       [ 7438],\n",
       "       [ 8322],\n",
       "       [ 8930],\n",
       "       [ 9553],\n",
       "       [ 9553],\n",
       "       [11659],\n",
       "       [12480],\n",
       "       [13994],\n",
       "       [15032],\n",
       "       [16110],\n",
       "       [16995],\n",
       "       [19025]], dtype=int64)"
      ]
     },
     "execution_count": 93,
     "metadata": {},
     "output_type": "execute_result"
    }
   ],
   "source": [
    "train_x"
   ]
  },
  {
   "cell_type": "code",
   "execution_count": 95,
   "metadata": {},
   "outputs": [
    {
     "data": {
      "text/plain": [
       "Text(0, 0.5, 'Cured')"
      ]
     },
     "execution_count": 95,
     "metadata": {},
     "output_type": "execute_result"
    },
    {
     "data": {
      "image/png": "[encoded data removed]",
      "text/plain": [
       "<Figure size 432x288 with 1 Axes>"
      ]
     },
     "metadata": {
      "needs_background": "light"
     },
     "output_type": "display_data"
    }
   ],
   "source": [
    "plt.scatter(train.Confirmed, train.Cured,  color='blue')\n",
    "plt.plot(train_x, regr.coef_[0]*train_x + regr.intercept_[0]) #y=mx+c\n",
    "plt.xlabel(\"Confirmed\")\n",
    "plt.ylabel(\"Cured\")"
   ]
  },
  {
   "cell_type": "code",
   "execution_count": 96,
   "metadata": {},
   "outputs": [
    {
     "name": "stdout",
     "output_type": "stream",
     "text": [
      "Coefficients:  [[0.00340493]]\n",
      "Intercept:  [2.56514053]\n"
     ]
    }
   ],
   "source": [
    "from sklearn import linear_model\n",
    "regr = linear_model.LinearRegression()\n",
    "train_x = np.asanyarray(train[['Confirmed']])  #numpy.asanyarray()function is used when we want to convert input to an array\n",
    "train_y = np.asanyarray(train[['Death']])\n",
    "regr.fit (train_x, train_y)\n",
    "# The coefficients\n",
    "print ('Coefficients: ', regr.coef_)\n",
    "print ('Intercept: ',regr.intercept_)"
   ]
  },
  {
   "cell_type": "code",
   "execution_count": 98,
   "metadata": {},
   "outputs": [
    {
     "data": {
      "text/plain": [
       "Text(0, 0.5, 'Deaths')"
      ]
     },
     "execution_count": 98,
     "metadata": {},
     "output_type": "execute_result"
    },
    {
     "data": {
      "image/png": "[encoded data removed]",
      "text/plain": [
       "<Figure size 432x288 with 1 Axes>"
      ]
     },
     "metadata": {
      "needs_background": "light"
     },
     "output_type": "display_data"
    }
   ],
   "source": [
    "plt.scatter(train.Confirmed, train.Death,  color='blue')\n",
    "plt.plot(train_x, regr.coef_[0]*train_x + regr.intercept_[0]) #y=mx+c\n",
    "plt.xlabel(\"Confirmed\")\n",
    "plt.ylabel(\"Deaths\")"
   ]
  },
  {
   "cell_type": "code",
   "execution_count": 99,
   "metadata": {},
   "outputs": [],
   "source": [
    "df=pd.read_csv('3states.csv')"
   ]
  },
  {
   "cell_type": "code",
   "execution_count": 101,
   "metadata": {},
   "outputs": [
    {
     "data": {
      "text/plain": [
       "<matplotlib.axes._subplots.AxesSubplot at 0x19de9c4ffc8>"
      ]
     },
     "execution_count": 101,
     "metadata": {},
     "output_type": "execute_result"
    },
    {
     "data": {
      "image/png": "[encoded data removed]",
      "text/plain": [
       "<Figure size 432x288 with 2 Axes>"
      ]
     },
     "metadata": {
      "needs_background": "light"
     },
     "output_type": "display_data"
    }
   ],
   "source": [
    "sns.heatmap(df.corr())"
   ]
  },
  {
   "cell_type": "code",
   "execution_count": null,
   "metadata": {},
   "outputs": [],
   "source": []
  }
 ],
 "metadata": {
  "kernelspec": {
   "display_name": "Python 3",
   "language": "python",
   "name": "python3"
  },
  "language_info": {
   "codemirror_mode": {
    "name": "ipython",
    "version": 3
   },
   "file_extension": ".py",
   "mimetype": "text/x-python",
   "name": "python",
   "nbconvert_exporter": "python",
   "pygments_lexer": "ipython3",
   "version": "3.7.6"
  }
 },
 "nbformat": 4,
 "nbformat_minor": 4
}
