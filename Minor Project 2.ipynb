{
 "cells": [
  {
   "cell_type": "code",
   "execution_count": 1,
   "metadata": {},
   "outputs": [],
   "source": [
    "import pandas as pd\n",
    "import numpy as np\n",
    "from  tkinter import *\n",
    "from tkinter.ttk import Combobox\n",
    "from tkinter import messagebox as mbox\n",
    "from PIL import ImageTk,Image\n",
    "from csv import reader\n",
    "from tkinter import Frame, Entry, Tk"
   ]
  },
  {
   "cell_type": "code",
   "execution_count": 2,
   "metadata": {},
   "outputs": [],
   "source": [
    "tkter = Tk()    #creating tk window\n",
    "tkter.geometry(\"600x600\")\n",
    "pic = PhotoImage(file= \"bgcorona.png\")\n",
    "Label(tkter,image=pic,bg='snow', bd=0).pack() "
   ]
  },
  {
   "cell_type": "code",
   "execution_count": 3,
   "metadata": {},
   "outputs": [
    {
     "data": {
      "text/plain": [
       "''"
      ]
     },
     "execution_count": 3,
     "metadata": {},
     "output_type": "execute_result"
    }
   ],
   "source": [
    "tkter.title(\"Pandemic Analyzer Calculator\")"
   ]
  },
  {
   "cell_type": "code",
   "execution_count": 4,
   "metadata": {},
   "outputs": [],
   "source": [
    "with open('Covid_Data_23July.csv', 'r') as read_obj:\n",
    "    data = reader(read_obj)\n",
    "    list_of_rows = list(data)"
   ]
  },
  {
   "cell_type": "code",
   "execution_count": 5,
   "metadata": {},
   "outputs": [],
   "source": [
    "lbl=Label(tkter, text=\"Select State/UT\",fg='black', borderwidth = 3,\n",
    "           relief=\"raised\",font=(\"arial\", 14))\n",
    "lbl.place(x=0, y=30)\n",
    "\n",
    "Active=Entry(bg='white',borderwidth = 3,relief=\"sunken\")\n",
    "Active.place(x=250, y=65,width=150,height=30)\n",
    "\n",
    "lbl1=Label(tkter, text=\"Total Active :\", fg='royal blue', borderwidth = 3,\n",
    "           relief=\"raised\",font=(\"arial\", 14))\n",
    "lbl1.place(x=0, y=65)\n",
    "\n",
    "Cured=Entry(bg='grey',borderwidth = 3,relief=\"sunken\")\n",
    "Cured.place(x=250, y=95,width=150,height=30)\n",
    "lbl2=Label(tkter, text=\"Total Cured :\", fg='green', borderwidth = 3,\n",
    "           relief=\"raised\",font=(\"arial\", 14))\n",
    "lbl2.place(x=0, y=95)\n",
    "\n",
    "Confirmed=Entry(bg=\"white\",borderwidth = 3,relief=\"sunken\")\n",
    "Confirmed.place(x=250, y=125,width=150,height=30)\n",
    "lbl3=Label(tkter, text=\"Total Confirmed :\", fg='red',  borderwidth = 3,\n",
    "           relief=\"raised\",font=(\"arial\", 14))\n",
    "lbl3.place(x=0, y=125)\n",
    "\n",
    "Population=Entry(bg='grey',borderwidth = 3,relief=\"sunken\")\n",
    "Population.place(x=250, y=155,width=150,height=30)\n",
    "lbl4=Label(tkter, text=\"Total Population:\", fg='dark blue',  borderwidth = 3,\n",
    "           relief=\"raised\",font=(\"arial\", 14))\n",
    "lbl4.place(x=0, y=155)"
   ]
  },
  {
   "cell_type": "code",
   "execution_count": 6,
   "metadata": {},
   "outputs": [],
   "source": [
    "data1=[] #name\n",
    "data2=[] #values corressponding to name\n",
    "#Creating List using Loop\n",
    "for i in range(len(list_of_rows)):\n",
    "    data1.append(list_of_rows[i])\n",
    "    data2.append(data1[i][0])"
   ]
  },
  {
   "cell_type": "code",
   "execution_count": 7,
   "metadata": {},
   "outputs": [
    {
     "name": "stdout",
     "output_type": "stream",
     "text": [
      "[['State', 'Active', 'Cured', 'Deceased', 'Confirmed', 'Population'], ['Andaman and Nicobar Islands', '58', '163', '0', '221', '380581'], ['Andhra Pradesh', '31763', '32127', '823', '64713', '49577103'], ['Arunachal Pradesh', '632', '314', '3', '949', '1383727'], ['Assam', '8675', '18033', '64', '26772', '31205576'], ['Bihar', '10506', '19646', '217', '30369', '104099452'], ['Chandigarh', '254', '526', '13', '793', '1055450'], ['Chhattisgarh', '1709', '4230', '29', '5968', '25545198'], ['Dadra and Nagar Haveli and Daman and Diu', '257', '474', '2', '733', '585764'], ['Delhi', '14954', '107650', '3719', '126323', '16787941'], ['Goa', '1607', '2541', '28', '4176', '1458545'], ['Gujarat', '11915', '37260', '2224', '51399', '60439692'], ['Haryana', '6117', '21697', '372', '28186', '25351462'], ['Himachal Pradesh', '609', '1105', '11', '1725', '6864602'], ['Jammu and Kashmir', '6831', '8607', '273', '15711', '12267032'], ['Jharkhand', '3397', '3024', '64', '6485', '32988134'], ['Karnataka', '47075', '27239', '1519', '75833', '61095297'], ['Kerala', '8825', '6162', '45', '15032', '33406061'], ['Ladakh', '186', '1018', '2', '1206', '274000'], ['Madhya Pradesh', '7236', '16836', '770', '24842', '72626809'], ['Maharashtra', '137282', '187769', '12556', '337607', '112374333'], ['Manipur', '632', '1428', '0', '2060', '2570390'], ['Meghalaya', '433', '77', '4', '514', '2966889'], ['Mizoram', '138', '179', '0', '317', '1097206'], ['Nagaland', '598', '486', '0', '1084', '1978502'], ['Odisha', '5977', '13750', '108', '19835', '41974219'], ['Puducherry', '900', '1369', '31', '2300', '1247953'], ['Punjab', '3391', '7641', '269', '11301', '27743338'], ['Rajasthan', '8387', '23364', '583', '32334', '68548437'], ['Sikkim', '326', '112', '0', '438', '610577'], ['Tamil Nadu', '51765', '131583', '3144', '186492', '72147030'], ['Telangana', '11155', '37666', '438', '49259', '35003674'], ['Tripura', '1408', '2032', '9', '3449', '3673917'], ['Uttarakhand', '1894', '3349', '57', '5300', '199812341'], ['Uttar Pradesh', '20825', '33500', '1263', '55588', '10086292'], ['West Bengal', '18450', '29650', '1221', '49321', '91276115'], ['Andaman and Nicobar Islands', '58', '163', '0', '221', '380581']]\n",
      "NEXT DATA 2\n",
      "['State', 'Andaman and Nicobar Islands', 'Andhra Pradesh', 'Arunachal Pradesh', 'Assam', 'Bihar', 'Chandigarh', 'Chhattisgarh', 'Dadra and Nagar Haveli and Daman and Diu', 'Delhi', 'Goa', 'Gujarat', 'Haryana', 'Himachal Pradesh', 'Jammu and Kashmir', 'Jharkhand', 'Karnataka', 'Kerala', 'Ladakh', 'Madhya Pradesh', 'Maharashtra', 'Manipur', 'Meghalaya', 'Mizoram', 'Nagaland', 'Odisha', 'Puducherry', 'Punjab', 'Rajasthan', 'Sikkim', 'Tamil Nadu', 'Telangana', 'Tripura', 'Uttarakhand', 'Uttar Pradesh', 'West Bengal', 'Andaman and Nicobar Islands']\n"
     ]
    }
   ],
   "source": [
    "data1.append(list_of_rows[1])\n",
    "print(data1)\n",
    "print(\"NEXT DATA 2\")\n",
    "data2.append(data1[1][0])\n",
    "print(data2)"
   ]
  },
  {
   "cell_type": "code",
   "execution_count": 8,
   "metadata": {},
   "outputs": [],
   "source": [
    "#Creating Function for clearing the text boxes\n",
    "def enable_items():\n",
    "   \n",
    "    Active.configure(state='normal')  # on \n",
    "    Cured.configure(state='normal')\n",
    "    Confirmed.configure(state='normal')\n",
    "    Population.configure(state='normal')\n",
    "    \n",
    " \n",
    "    Active.delete(0, 'end')\n",
    "    Cured.delete(0, 'end')\n",
    "    Confirmed.delete(0, 'end')  \n",
    "    Population.delete(0, 'end') \n",
    "    \n",
    "    No_of_Deaths.configure(state='normal')\n",
    "    No_of_Deaths.delete(0, 'end')\n",
    "    \n",
    "    IFRate.configure(state='normal')\n",
    "    IFRate.delete(0, 'end')\n",
    "    \n",
    "    CMRate.configure(state='normal')\n",
    "    CMRate.delete(0, 'end')"
   ]
  },
  {
   "cell_type": "code",
   "execution_count": 9,
   "metadata": {},
   "outputs": [],
   "source": [
    "##Creating Function for student data into text boxes and disabling it\n",
    "def on_Data_changed():\n",
    "    enable_items()\n",
    "    for i in range(len(data1)):\n",
    "            dat=data1[i][0]\n",
    "            if cb.get()== dat:\n",
    "                Active.insert(END, data1[i][1])\n",
    "                Cured.insert(END, data1[i][2])\n",
    "                Confirmed.insert(END, data1[i][4])\n",
    "                Population.insert(END,data1[i][5])\n",
    "                              \n",
    "                Active.configure(state='disabled')\n",
    "                Cured.configure(state='disabled')\n",
    "                Confirmed.configure(state='disabled')\n",
    "                Population.configure(state='disabled')"
   ]
  },
  {
   "cell_type": "code",
   "execution_count": 10,
   "metadata": {},
   "outputs": [],
   "source": [
    "#Settingup Data for Combobox\n",
    "cb=Combobox(tkter,values=data2)    #CREATE DROP DOWN LIST\n",
    "cb.place(x=250, y=30,width=150,height=30)\n",
    "\n",
    "clk = Button(tkter, text='OK',bg=\"snow\",fg=\"black\",borderwidth = 3,relief=\"sunken\",command=on_Data_changed) #CREATE BUTTON APON CLICKING\n",
    "clk.place(x=400, y=30,height=30)\n"
   ]
  },
  {
   "cell_type": "code",
   "execution_count": 11,
   "metadata": {},
   "outputs": [],
   "source": [
    "def NO_OF_DEATHS():\n",
    "        num1=int(Active.get())\n",
    "        num2=int(Cured.get())\n",
    "        num3=int(Confirmed.get())\n",
    "       \n",
    "        \n",
    "        deaths=num3-(num1+num2)\n",
    "        No_of_Deaths.insert(END, str(deaths))\n",
    "        No_of_Deaths.configure(state='disabled')"
   ]
  },
  {
   "cell_type": "code",
   "execution_count": 12,
   "metadata": {},
   "outputs": [],
   "source": [
    "def IFR():\n",
    "        num1=int(Active.get())\n",
    "        num2=int(Cured.get())\n",
    "        infected=int(Confirmed.get())\n",
    "        \n",
    "        rate=((infected-(num1+num2))/infected)*100\n",
    "        IFRate.insert(END,float(rate))\n",
    "        IFRate.configure(state='disabled')"
   ]
  },
  {
   "cell_type": "code",
   "execution_count": 13,
   "metadata": {},
   "outputs": [],
   "source": [
    "def CMR():\n",
    "        num1=int(Active.get())\n",
    "        num2=int(Cured.get())\n",
    "        num3=int(Confirmed.get())\n",
    "        total_population=int(Population.get())\n",
    "    \n",
    "        rate2=((num3-(num1+num2))/total_population)*100000\n",
    "        CMRate.insert(END,float(rate2))\n",
    "        CMRate.configure(state='disabled')"
   ]
  },
  {
   "cell_type": "code",
   "execution_count": 14,
   "metadata": {},
   "outputs": [],
   "source": [
    "#creating Buttons             \n",
    "No_of_Deaths = Button(tkter, text='No of Deceased',bg=\"skyblue\",fg=\"black\",command=NO_OF_DEATHS)\n",
    "No_of_Deaths.place(x=100, y=220)\n",
    "\n",
    "IFRate=Button(tkter, text='IFR%',bg=\"forestgreen\",fg=\"white\",command=IFR)\n",
    "IFRate.place(x=210, y=220)\n",
    "\n",
    "CMRate=Button(tkter, text='CMR%',bg=\"indianred\",fg=\"white\",command=CMR)\n",
    "CMRate.place(x=260, y=220)\n",
    "\n",
    "\n",
    "No_of_Deaths=Entry(borderwidth = 3,relief=\"sunken\")\n",
    "No_of_Deaths.place(x=250, y=260,width=150,height=30)\n",
    "lbl6=Label(tkter, text=\"Deceased Cases:\", fg='white', bg=\"grey\",font=(\"arial\", 16))\n",
    "lbl6.place(x=0, y=260)\n",
    "\n",
    "lbl6=Label(tkter, text=\"Confirmed-(Active+Cured)\", borderwidth = 6,\n",
    "           relief=\"ridge\",fg='white',bg=\"royal blue\" ,font=(\"arial\", 10))\n",
    "lbl6.place(x=0, y=300)\n",
    "\n",
    "IFRate=Entry(borderwidth = 3,relief=\"sunken\")\n",
    "IFRate.place(x=250, y=350,width=150,height=30)\n",
    "lbl7=Label(tkter, text=\"IFR%:\", fg='white', bg=\"grey\",font=(\"arial\", 16))\n",
    "lbl7.place(x=0, y=350)\n",
    "\n",
    "lbl7=Label(tkter, text=\"(deaths/infected)*100\", borderwidth = 6,\n",
    "                        relief=\"ridge\",fg='white', bg=\"royal blue\",font=(\"arial\", 10))\n",
    "lbl7.place(x=0, y=390)\n",
    "\n",
    "CMRate=Entry(borderwidth = 3,relief=\"sunken\")\n",
    "CMRate.place(x=250, y=430,width=150,height=30)\n",
    "lbl8=Label(tkter, text=\"CMR%:\", fg='white', bg=\"grey\",font=(\"arial\", 16))\n",
    "lbl8.place(x=0, y=430)\n",
    "\n",
    "lbl8=Label(tkter, text=\"(deaths/total population)*100000\", borderwidth = 6,\n",
    "                        relief=\"ridge\",bg=\"royal blue\",fg='white', font=(\"arial\", 10))\n",
    "lbl8.place(x=0, y=470)\n",
    "tkter.mainloop()"
   ]
  },
  {
   "cell_type": "code",
   "execution_count": null,
   "metadata": {},
   "outputs": [],
   "source": []
  },
  {
   "cell_type": "code",
   "execution_count": null,
   "metadata": {},
   "outputs": [],
   "source": []
  }
 ],
 "metadata": {
  "kernelspec": {
   "display_name": "Python 3",
   "language": "python",
   "name": "python3"
  },
  "language_info": {
   "codemirror_mode": {
    "name": "ipython",
    "version": 3
   },
   "file_extension": ".py",
   "mimetype": "text/x-python",
   "name": "python",
   "nbconvert_exporter": "python",
   "pygments_lexer": "ipython3",
   "version": "3.7.6"
  }
 },
 "nbformat": 4,
 "nbformat_minor": 4
}
