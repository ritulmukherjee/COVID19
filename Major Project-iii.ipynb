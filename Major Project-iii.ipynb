{
 "cells": [
  {
   "cell_type": "code",
   "execution_count": 116,
   "metadata": {},
   "outputs": [],
   "source": [
    "import itertools\n",
    "import numpy as np\n",
    "import matplotlib.pyplot as plt\n",
    "from matplotlib.ticker import NullFormatter\n",
    "import pandas as pd\n",
    "import numpy as np\n",
    "import matplotlib.ticker as ticker\n",
    "\n",
    "%matplotlib inline"
   ]
  },
  {
   "cell_type": "code",
   "execution_count": 117,
   "metadata": {},
   "outputs": [],
   "source": [
    "df = pd.read_csv('national.csv')"
   ]
  },
  {
   "cell_type": "code",
   "execution_count": 118,
   "metadata": {},
   "outputs": [
    {
     "data": {
      "text/html": [
       "<div>\n",
       "<style scoped>\n",
       "    .dataframe tbody tr th:only-of-type {\n",
       "        vertical-align: middle;\n",
       "    }\n",
       "\n",
       "    .dataframe tbody tr th {\n",
       "        vertical-align: top;\n",
       "    }\n",
       "\n",
       "    .dataframe thead th {\n",
       "        text-align: right;\n",
       "    }\n",
       "</style>\n",
       "<table border=\"1\" class=\"dataframe\">\n",
       "  <thead>\n",
       "    <tr style=\"text-align: right;\">\n",
       "      <th></th>\n",
       "      <th>Date</th>\n",
       "      <th>Daily_Confirmed</th>\n",
       "      <th>Confirmed</th>\n",
       "      <th>Recovered</th>\n",
       "      <th>Recovered.1</th>\n",
       "      <th>Deceased</th>\n",
       "      <th>Total_Deceased</th>\n",
       "    </tr>\n",
       "  </thead>\n",
       "  <tbody>\n",
       "    <tr>\n",
       "      <th>0</th>\n",
       "      <td>30-Jan</td>\n",
       "      <td>1</td>\n",
       "      <td>1</td>\n",
       "      <td>0</td>\n",
       "      <td>0</td>\n",
       "      <td>0</td>\n",
       "      <td>0</td>\n",
       "    </tr>\n",
       "    <tr>\n",
       "      <th>1</th>\n",
       "      <td>31-Jan</td>\n",
       "      <td>0</td>\n",
       "      <td>1</td>\n",
       "      <td>0</td>\n",
       "      <td>0</td>\n",
       "      <td>0</td>\n",
       "      <td>0</td>\n",
       "    </tr>\n",
       "    <tr>\n",
       "      <th>2</th>\n",
       "      <td>1-Feb</td>\n",
       "      <td>0</td>\n",
       "      <td>1</td>\n",
       "      <td>0</td>\n",
       "      <td>0</td>\n",
       "      <td>0</td>\n",
       "      <td>0</td>\n",
       "    </tr>\n",
       "    <tr>\n",
       "      <th>3</th>\n",
       "      <td>2-Feb</td>\n",
       "      <td>1</td>\n",
       "      <td>2</td>\n",
       "      <td>0</td>\n",
       "      <td>0</td>\n",
       "      <td>0</td>\n",
       "      <td>0</td>\n",
       "    </tr>\n",
       "    <tr>\n",
       "      <th>4</th>\n",
       "      <td>3-Feb</td>\n",
       "      <td>1</td>\n",
       "      <td>3</td>\n",
       "      <td>0</td>\n",
       "      <td>0</td>\n",
       "      <td>0</td>\n",
       "      <td>0</td>\n",
       "    </tr>\n",
       "    <tr>\n",
       "      <th>...</th>\n",
       "      <td>...</td>\n",
       "      <td>...</td>\n",
       "      <td>...</td>\n",
       "      <td>...</td>\n",
       "      <td>...</td>\n",
       "      <td>...</td>\n",
       "      <td>...</td>\n",
       "    </tr>\n",
       "    <tr>\n",
       "      <th>175</th>\n",
       "      <td>23-Jul</td>\n",
       "      <td>48443</td>\n",
       "      <td>1288128</td>\n",
       "      <td>33326</td>\n",
       "      <td>817485</td>\n",
       "      <td>755</td>\n",
       "      <td>30657</td>\n",
       "    </tr>\n",
       "    <tr>\n",
       "      <th>176</th>\n",
       "      <td>24-Jul</td>\n",
       "      <td>48888</td>\n",
       "      <td>1337016</td>\n",
       "      <td>32514</td>\n",
       "      <td>849999</td>\n",
       "      <td>763</td>\n",
       "      <td>31420</td>\n",
       "    </tr>\n",
       "    <tr>\n",
       "      <th>177</th>\n",
       "      <td>25-Jul</td>\n",
       "      <td>50072</td>\n",
       "      <td>1387088</td>\n",
       "      <td>37125</td>\n",
       "      <td>887124</td>\n",
       "      <td>703</td>\n",
       "      <td>32123</td>\n",
       "    </tr>\n",
       "    <tr>\n",
       "      <th>178</th>\n",
       "      <td>26-Jul</td>\n",
       "      <td>48932</td>\n",
       "      <td>1436020</td>\n",
       "      <td>31512</td>\n",
       "      <td>918636</td>\n",
       "      <td>704</td>\n",
       "      <td>32827</td>\n",
       "    </tr>\n",
       "    <tr>\n",
       "      <th>179</th>\n",
       "      <td>27-Jul</td>\n",
       "      <td>46484</td>\n",
       "      <td>1482504</td>\n",
       "      <td>34456</td>\n",
       "      <td>953092</td>\n",
       "      <td>640</td>\n",
       "      <td>33467</td>\n",
       "    </tr>\n",
       "  </tbody>\n",
       "</table>\n",
       "<p>180 rows × 7 columns</p>\n",
       "</div>"
      ],
      "text/plain": [
       "       Date  Daily_Confirmed  Confirmed  Recovered  Recovered.1  Deceased  \\\n",
       "0    30-Jan                1          1          0            0         0   \n",
       "1    31-Jan                0          1          0            0         0   \n",
       "2     1-Feb                0          1          0            0         0   \n",
       "3     2-Feb                1          2          0            0         0   \n",
       "4     3-Feb                1          3          0            0         0   \n",
       "..      ...              ...        ...        ...          ...       ...   \n",
       "175  23-Jul            48443    1288128      33326       817485       755   \n",
       "176  24-Jul            48888    1337016      32514       849999       763   \n",
       "177  25-Jul            50072    1387088      37125       887124       703   \n",
       "178  26-Jul            48932    1436020      31512       918636       704   \n",
       "179  27-Jul            46484    1482504      34456       953092       640   \n",
       "\n",
       "     Total_Deceased  \n",
       "0                 0  \n",
       "1                 0  \n",
       "2                 0  \n",
       "3                 0  \n",
       "4                 0  \n",
       "..              ...  \n",
       "175           30657  \n",
       "176           31420  \n",
       "177           32123  \n",
       "178           32827  \n",
       "179           33467  \n",
       "\n",
       "[180 rows x 7 columns]"
      ]
     },
     "execution_count": 118,
     "metadata": {},
     "output_type": "execute_result"
    }
   ],
   "source": [
    "df"
   ]
  },
  {
   "cell_type": "code",
   "execution_count": 119,
   "metadata": {},
   "outputs": [
    {
     "data": {
      "text/plain": [
       "3         28\n",
       "1          3\n",
       "18544      1\n",
       "150858     1\n",
       "491193     1\n",
       "          ..\n",
       "367269     1\n",
       "226723     1\n",
       "9211       1\n",
       "649889     1\n",
       "256        1\n",
       "Name: Confirmed, Length: 151, dtype: int64"
      ]
     },
     "execution_count": 119,
     "metadata": {},
     "output_type": "execute_result"
    }
   ],
   "source": [
    "df['Confirmed'].value_counts()"
   ]
  },
  {
   "cell_type": "code",
   "execution_count": 120,
   "metadata": {},
   "outputs": [
    {
     "data": {
      "text/plain": [
       "array([[<matplotlib.axes._subplots.AxesSubplot object at 0x0000010638F57248>]],\n",
       "      dtype=object)"
      ]
     },
     "execution_count": 120,
     "metadata": {},
     "output_type": "execute_result"
    },
    {
     "data": {
      "image/png": "[encoded data removed]",
      "text/plain": [
       "<Figure size 432x288 with 1 Axes>"
      ]
     },
     "metadata": {
      "needs_background": "light"
     },
     "output_type": "display_data"
    }
   ],
   "source": [
    "df.hist(column='Confirmed', bins=10)  #bin defines the shape of histogram."
   ]
  },
  {
   "cell_type": "code",
   "execution_count": 121,
   "metadata": {},
   "outputs": [
    {
     "data": {
      "text/plain": [
       "Index(['Date', 'Daily_Confirmed', 'Confirmed', 'Recovered', 'Recovered.1',\n",
       "       'Deceased', 'Total_Deceased'],\n",
       "      dtype='object')"
      ]
     },
     "execution_count": 121,
     "metadata": {},
     "output_type": "execute_result"
    }
   ],
   "source": [
    "df.columns"
   ]
  },
  {
   "cell_type": "code",
   "execution_count": 122,
   "metadata": {},
   "outputs": [],
   "source": [
    "df['Date'].replace(to_replace=df['Date'].unique(),value=list(range(0,len(df['Date'].unique()))),inplace=True)"
   ]
  },
  {
   "cell_type": "code",
   "execution_count": 123,
   "metadata": {},
   "outputs": [
    {
     "data": {
      "text/html": [
       "<div>\n",
       "<style scoped>\n",
       "    .dataframe tbody tr th:only-of-type {\n",
       "        vertical-align: middle;\n",
       "    }\n",
       "\n",
       "    .dataframe tbody tr th {\n",
       "        vertical-align: top;\n",
       "    }\n",
       "\n",
       "    .dataframe thead th {\n",
       "        text-align: right;\n",
       "    }\n",
       "</style>\n",
       "<table border=\"1\" class=\"dataframe\">\n",
       "  <thead>\n",
       "    <tr style=\"text-align: right;\">\n",
       "      <th></th>\n",
       "      <th>Date</th>\n",
       "      <th>Daily_Confirmed</th>\n",
       "      <th>Confirmed</th>\n",
       "      <th>Recovered</th>\n",
       "      <th>Recovered.1</th>\n",
       "      <th>Deceased</th>\n",
       "      <th>Total_Deceased</th>\n",
       "    </tr>\n",
       "  </thead>\n",
       "  <tbody>\n",
       "    <tr>\n",
       "      <th>0</th>\n",
       "      <td>0</td>\n",
       "      <td>1</td>\n",
       "      <td>1</td>\n",
       "      <td>0</td>\n",
       "      <td>0</td>\n",
       "      <td>0</td>\n",
       "      <td>0</td>\n",
       "    </tr>\n",
       "    <tr>\n",
       "      <th>1</th>\n",
       "      <td>1</td>\n",
       "      <td>0</td>\n",
       "      <td>1</td>\n",
       "      <td>0</td>\n",
       "      <td>0</td>\n",
       "      <td>0</td>\n",
       "      <td>0</td>\n",
       "    </tr>\n",
       "    <tr>\n",
       "      <th>2</th>\n",
       "      <td>2</td>\n",
       "      <td>0</td>\n",
       "      <td>1</td>\n",
       "      <td>0</td>\n",
       "      <td>0</td>\n",
       "      <td>0</td>\n",
       "      <td>0</td>\n",
       "    </tr>\n",
       "    <tr>\n",
       "      <th>3</th>\n",
       "      <td>3</td>\n",
       "      <td>1</td>\n",
       "      <td>2</td>\n",
       "      <td>0</td>\n",
       "      <td>0</td>\n",
       "      <td>0</td>\n",
       "      <td>0</td>\n",
       "    </tr>\n",
       "    <tr>\n",
       "      <th>4</th>\n",
       "      <td>4</td>\n",
       "      <td>1</td>\n",
       "      <td>3</td>\n",
       "      <td>0</td>\n",
       "      <td>0</td>\n",
       "      <td>0</td>\n",
       "      <td>0</td>\n",
       "    </tr>\n",
       "    <tr>\n",
       "      <th>...</th>\n",
       "      <td>...</td>\n",
       "      <td>...</td>\n",
       "      <td>...</td>\n",
       "      <td>...</td>\n",
       "      <td>...</td>\n",
       "      <td>...</td>\n",
       "      <td>...</td>\n",
       "    </tr>\n",
       "    <tr>\n",
       "      <th>175</th>\n",
       "      <td>175</td>\n",
       "      <td>48443</td>\n",
       "      <td>1288128</td>\n",
       "      <td>33326</td>\n",
       "      <td>817485</td>\n",
       "      <td>755</td>\n",
       "      <td>30657</td>\n",
       "    </tr>\n",
       "    <tr>\n",
       "      <th>176</th>\n",
       "      <td>176</td>\n",
       "      <td>48888</td>\n",
       "      <td>1337016</td>\n",
       "      <td>32514</td>\n",
       "      <td>849999</td>\n",
       "      <td>763</td>\n",
       "      <td>31420</td>\n",
       "    </tr>\n",
       "    <tr>\n",
       "      <th>177</th>\n",
       "      <td>177</td>\n",
       "      <td>50072</td>\n",
       "      <td>1387088</td>\n",
       "      <td>37125</td>\n",
       "      <td>887124</td>\n",
       "      <td>703</td>\n",
       "      <td>32123</td>\n",
       "    </tr>\n",
       "    <tr>\n",
       "      <th>178</th>\n",
       "      <td>178</td>\n",
       "      <td>48932</td>\n",
       "      <td>1436020</td>\n",
       "      <td>31512</td>\n",
       "      <td>918636</td>\n",
       "      <td>704</td>\n",
       "      <td>32827</td>\n",
       "    </tr>\n",
       "    <tr>\n",
       "      <th>179</th>\n",
       "      <td>179</td>\n",
       "      <td>46484</td>\n",
       "      <td>1482504</td>\n",
       "      <td>34456</td>\n",
       "      <td>953092</td>\n",
       "      <td>640</td>\n",
       "      <td>33467</td>\n",
       "    </tr>\n",
       "  </tbody>\n",
       "</table>\n",
       "<p>180 rows × 7 columns</p>\n",
       "</div>"
      ],
      "text/plain": [
       "     Date  Daily_Confirmed  Confirmed  Recovered  Recovered.1  Deceased  \\\n",
       "0       0                1          1          0            0         0   \n",
       "1       1                0          1          0            0         0   \n",
       "2       2                0          1          0            0         0   \n",
       "3       3                1          2          0            0         0   \n",
       "4       4                1          3          0            0         0   \n",
       "..    ...              ...        ...        ...          ...       ...   \n",
       "175   175            48443    1288128      33326       817485       755   \n",
       "176   176            48888    1337016      32514       849999       763   \n",
       "177   177            50072    1387088      37125       887124       703   \n",
       "178   178            48932    1436020      31512       918636       704   \n",
       "179   179            46484    1482504      34456       953092       640   \n",
       "\n",
       "     Total_Deceased  \n",
       "0                 0  \n",
       "1                 0  \n",
       "2                 0  \n",
       "3                 0  \n",
       "4                 0  \n",
       "..              ...  \n",
       "175           30657  \n",
       "176           31420  \n",
       "177           32123  \n",
       "178           32827  \n",
       "179           33467  \n",
       "\n",
       "[180 rows x 7 columns]"
      ]
     },
     "execution_count": 123,
     "metadata": {},
     "output_type": "execute_result"
    }
   ],
   "source": [
    "df"
   ]
  },
  {
   "cell_type": "code",
   "execution_count": 124,
   "metadata": {},
   "outputs": [],
   "source": [
    "X=df[['Date', 'Daily_Confirmed', 'Recovered', 'Recovered.1',\n",
    "       'Deceased', 'Total_Deceased']]"
   ]
  },
  {
   "cell_type": "code",
   "execution_count": 125,
   "metadata": {},
   "outputs": [
    {
     "data": {
      "text/plain": [
       "array([[      1],\n",
       "       [      1],\n",
       "       [      1],\n",
       "       [      2],\n",
       "       [      3],\n",
       "       [      3],\n",
       "       [      3],\n",
       "       [      3],\n",
       "       [      3],\n",
       "       [      3],\n",
       "       [      3],\n",
       "       [      3],\n",
       "       [      3],\n",
       "       [      3],\n",
       "       [      3],\n",
       "       [      3],\n",
       "       [      3],\n",
       "       [      3],\n",
       "       [      3],\n",
       "       [      3],\n",
       "       [      3],\n",
       "       [      3],\n",
       "       [      3],\n",
       "       [      3],\n",
       "       [      3],\n",
       "       [      3],\n",
       "       [      3],\n",
       "       [      3],\n",
       "       [      3],\n",
       "       [      3],\n",
       "       [      3],\n",
       "       [      3],\n",
       "       [      5],\n",
       "       [      6],\n",
       "       [     28],\n",
       "       [     30],\n",
       "       [     31],\n",
       "       [     34],\n",
       "       [     39],\n",
       "       [     48],\n",
       "       [     63],\n",
       "       [     71],\n",
       "       [     81],\n",
       "       [     91],\n",
       "       [    102],\n",
       "       [    112],\n",
       "       [    126],\n",
       "       [    146],\n",
       "       [    171],\n",
       "       [    198],\n",
       "       [    256],\n",
       "       [    334],\n",
       "       [    403],\n",
       "       [    497],\n",
       "       [    571],\n",
       "       [    657],\n",
       "       [    730],\n",
       "       [    883],\n",
       "       [   1019],\n",
       "       [   1139],\n",
       "       [   1326],\n",
       "       [   1635],\n",
       "       [   2059],\n",
       "       [   2545],\n",
       "       [   3105],\n",
       "       [   3684],\n",
       "       [   4293],\n",
       "       [   4777],\n",
       "       [   5350],\n",
       "       [   5915],\n",
       "       [   6728],\n",
       "       [   7599],\n",
       "       [   8453],\n",
       "       [   9211],\n",
       "       [  10454],\n",
       "       [  11485],\n",
       "       [  12371],\n",
       "       [  13432],\n",
       "       [  14354],\n",
       "       [  15725],\n",
       "       [  17305],\n",
       "       [  18544],\n",
       "       [  20081],\n",
       "       [  21373],\n",
       "       [  23040],\n",
       "       [  24448],\n",
       "       [  26283],\n",
       "       [  27890],\n",
       "       [  29458],\n",
       "       [  31360],\n",
       "       [  33065],\n",
       "       [  34866],\n",
       "       [  37262],\n",
       "       [  39826],\n",
       "       [  42778],\n",
       "       [  46434],\n",
       "       [  49405],\n",
       "       [  53007],\n",
       "       [  56351],\n",
       "       [  59690],\n",
       "       [  62865],\n",
       "       [  67176],\n",
       "       [  70768],\n",
       "       [  74330],\n",
       "       [  78056],\n",
       "       [  82047],\n",
       "       [  85855],\n",
       "       [  90649],\n",
       "       [  95698],\n",
       "       [ 100326],\n",
       "       [ 106480],\n",
       "       [ 112200],\n",
       "       [ 118223],\n",
       "       [ 124759],\n",
       "       [ 131424],\n",
       "       [ 138537],\n",
       "       [ 144951],\n",
       "       [ 150858],\n",
       "       [ 158104],\n",
       "       [ 165358],\n",
       "       [ 173496],\n",
       "       [ 181860],\n",
       "       [ 190649],\n",
       "       [ 198372],\n",
       "       [ 207187],\n",
       "       [ 216876],\n",
       "       [ 226723],\n",
       "       [ 236195],\n",
       "       [ 246603],\n",
       "       [ 257485],\n",
       "       [ 266021],\n",
       "       [ 276002],\n",
       "       [ 287158],\n",
       "       [ 298293],\n",
       "       [ 309599],\n",
       "       [ 321638],\n",
       "       [ 333043],\n",
       "       [ 343075],\n",
       "       [ 354161],\n",
       "       [ 367269],\n",
       "       [ 381098],\n",
       "       [ 395838],\n",
       "       [ 411753],\n",
       "       [ 426904],\n",
       "       [ 440464],\n",
       "       [ 456120],\n",
       "       [ 472988],\n",
       "       [ 491193],\n",
       "       [ 509448],\n",
       "       [ 529590],\n",
       "       [ 549200],\n",
       "       [ 567539],\n",
       "       [ 585795],\n",
       "       [ 605224],\n",
       "       [ 627171],\n",
       "       [ 649889],\n",
       "       [ 673907],\n",
       "       [ 697849],\n",
       "       [ 720349],\n",
       "       [ 743496],\n",
       "       [ 769057],\n",
       "       [ 794847],\n",
       "       [ 822609],\n",
       "       [ 850366],\n",
       "       [ 879472],\n",
       "       [ 907650],\n",
       "       [ 937567],\n",
       "       [ 970174],\n",
       "       [1005642],\n",
       "       [1040462],\n",
       "       [1077873],\n",
       "       [1118108],\n",
       "       [1154914],\n",
       "       [1194084],\n",
       "       [1239685],\n",
       "       [1288128],\n",
       "       [1337016],\n",
       "       [1387088],\n",
       "       [1436020],\n",
       "       [1482504]], dtype=int64)"
      ]
     },
     "execution_count": 125,
     "metadata": {},
     "output_type": "execute_result"
    }
   ],
   "source": [
    "Y=df[['Confirmed']].values\n",
    "Y"
   ]
  },
  {
   "cell_type": "code",
   "execution_count": 126,
   "metadata": {},
   "outputs": [],
   "source": [
    "cdf=df[['Date', 'Confirmed','Recovered', 'Recovered.1','Deceased', 'Total_Deceased']]"
   ]
  },
  {
   "cell_type": "code",
   "execution_count": 148,
   "metadata": {},
   "outputs": [
    {
     "data": {
      "text/plain": [
       "(143, 6)"
      ]
     },
     "execution_count": 148,
     "metadata": {},
     "output_type": "execute_result"
    }
   ],
   "source": [
    "train.shape"
   ]
  },
  {
   "cell_type": "code",
   "execution_count": 149,
   "metadata": {},
   "outputs": [
    {
     "data": {
      "text/plain": [
       "(36, 1)"
      ]
     },
     "execution_count": 149,
     "metadata": {},
     "output_type": "execute_result"
    }
   ],
   "source": [
    "test.shape"
   ]
  },
  {
   "cell_type": "code",
   "execution_count": 186,
   "metadata": {},
   "outputs": [
    {
     "data": {
      "image/png": "[encoded data removed]",
      "text/plain": [
       "<Figure size 1440x720 with 1 Axes>"
      ]
     },
     "metadata": {
      "needs_background": "light"
     },
     "output_type": "display_data"
    }
   ],
   "source": [
    "plt.figure(figsize=(20,10))\n",
    "plt.scatter(df.Date,df.Confirmed,color='blue')\n",
    "plt.xlabel(\"Days\")\n",
    "plt.ylabel(\"Confirmed\")\n",
    "plt.title(\"Coherence(Confirmed:No of Days)\")\n",
    "plt.show()"
   ]
  },
  {
   "cell_type": "code",
   "execution_count": 151,
   "metadata": {},
   "outputs": [
    {
     "name": "stdout",
     "output_type": "stream",
     "text": [
      "Train set: (144, 6) (144, 1)\n",
      "Test set: (36, 6) (36, 1)\n",
      "whole set: (180, 6)\n"
     ]
    }
   ],
   "source": [
    "from sklearn.model_selection import train_test_split\n",
    "X_train, X_test, Y_train, Y_test = train_test_split( X, Y, test_size=0.20, random_state=4)\n",
    "print ('Train set:', X_train.shape,  Y_train.shape)\n",
    "print ('Test set:', X_test.shape,  Y_test.shape)\n",
    "print('whole set:',X.shape)"
   ]
  },
  {
   "cell_type": "code",
   "execution_count": 152,
   "metadata": {},
   "outputs": [
    {
     "data": {
      "text/plain": [
       "LinearRegression(copy_X=True, fit_intercept=True, n_jobs=None, normalize=False)"
      ]
     },
     "execution_count": 152,
     "metadata": {},
     "output_type": "execute_result"
    }
   ],
   "source": [
    "from sklearn.linear_model import LinearRegression\n",
    "lin_reg = LinearRegression()  # variable and uses linear regression it has all math function\n",
    "lin_reg.fit(X_train,Y_train)"
   ]
  },
  {
   "cell_type": "code",
   "execution_count": 153,
   "metadata": {},
   "outputs": [],
   "source": [
    "Y_pred = lin_reg.predict(np.array(X_test))"
   ]
  },
  {
   "cell_type": "code",
   "execution_count": 154,
   "metadata": {},
   "outputs": [
    {
     "name": "stdout",
     "output_type": "stream",
     "text": [
      "[[210.93920036   4.50186538  -0.40673801   1.0621992    8.53207757\n",
      "    6.22919251]]\n"
     ]
    }
   ],
   "source": [
    "print(lin_reg.coef_)"
   ]
  },
  {
   "cell_type": "code",
   "execution_count": 155,
   "metadata": {},
   "outputs": [
    {
     "name": "stdout",
     "output_type": "stream",
     "text": [
      "[-7062.70913911]\n"
     ]
    }
   ],
   "source": [
    "print(lin_reg.intercept_)"
   ]
  },
  {
   "cell_type": "code",
   "execution_count": 156,
   "metadata": {},
   "outputs": [
    {
     "data": {
      "text/plain": [
       "0.9996524401749494"
      ]
     },
     "execution_count": 156,
     "metadata": {},
     "output_type": "execute_result"
    }
   ],
   "source": [
    "from sklearn.metrics import r2_score\n",
    "r2_score(Y_test,Y_pred)"
   ]
  },
  {
   "cell_type": "code",
   "execution_count": 169,
   "metadata": {},
   "outputs": [],
   "source": [
    "pred=[]\n",
    "for i in range(0,len(Y_pred)):\n",
    "    dt=Y_pred[i][0]\n",
    "    pred.append(dt)\n",
    "\n",
    "actual=[]\n",
    "test=np.asarray(Y_test)\n",
    "for i in range(0,len(test)):\n",
    "    dt=test[i][0]\n",
    "    actual.append(dt)"
   ]
  },
  {
   "cell_type": "code",
   "execution_count": 195,
   "metadata": {},
   "outputs": [
    {
     "data": {
      "image/png": "[encoded data removed]",
      "text/plain": [
       "<Figure size 1440x720 with 1 Axes>"
      ]
     },
     "metadata": {
      "needs_background": "light"
     },
     "output_type": "display_data"
    }
   ],
   "source": [
    "barWidth = 0.4\n",
    "\n",
    "act1 =pred\n",
    "pred1 =actual\n",
    "\n",
    "r1 = np.arange(len(bars1))\n",
    "r2 = [x + barWidth for x in r1]\n",
    "\n",
    "plt.figure(figsize=(20, 10))\n",
    "plt.bar(r1, act1, color='brown', width=barWidth, edgecolor='white', label='predicted cases')\n",
    "plt.bar(r2, pred1, color='coral', width=barWidth, edgecolor='white', label='actual cases')\n",
    "\n",
    "\n",
    "plt.xlabel('DAYS', fontweight='bold')\n",
    "plt.ylabel('CASES', fontweight='bold')\n",
    "\n",
    "plt.title('PREDICTION ANALYSIS OF CONFIRMED CASES:NO OF DAYS(UPTO JULY 27,2020)')\n",
    "ttl1.set_position([.5, 1.05]) \n",
    "\n",
    "\n",
    "plt.legend()\n",
    "plt.show()"
   ]
  },
  {
   "cell_type": "code",
   "execution_count": 171,
   "metadata": {},
   "outputs": [],
   "source": [
    "X1=df[['Date', 'Confirmed','Daily_Confirmed', 'Recovered.1',\n",
    "       'Deceased', 'Total_Deceased']].values"
   ]
  },
  {
   "cell_type": "code",
   "execution_count": 161,
   "metadata": {},
   "outputs": [],
   "source": [
    "Y1=df[['Recovered']].values"
   ]
  },
  {
   "cell_type": "code",
   "execution_count": 185,
   "metadata": {},
   "outputs": [
    {
     "data": {
      "image/png": "[encoded data removed]",
      "text/plain": [
       "<Figure size 1440x720 with 1 Axes>"
      ]
     },
     "metadata": {
      "needs_background": "light"
     },
     "output_type": "display_data"
    }
   ],
   "source": [
    "plt.figure(figsize=(20,10))\n",
    "plt.scatter(df.Date,df.Recovered,color='blue')\n",
    "plt.xlabel(\"DAYS\")\n",
    "plt.ylabel(\"Recovered\")\n",
    "plt.title(\"Coherence(Recovered:No of Days)\")\n",
    "plt.show()"
   ]
  },
  {
   "cell_type": "code",
   "execution_count": 164,
   "metadata": {},
   "outputs": [
    {
     "name": "stdout",
     "output_type": "stream",
     "text": [
      "Train set: (144, 6) (144, 1)\n",
      "Test set: (36, 6) (36, 1)\n",
      "whole set: (180, 6)\n"
     ]
    }
   ],
   "source": [
    "from sklearn.model_selection import train_test_split\n",
    "X1_train, X1_test, Y1_train, Y1_test = train_test_split( X1, Y1, test_size=0.20, random_state=4)\n",
    "print ('Train set:', X1_train.shape,  Y1_train.shape)\n",
    "print ('Test set:', X1_test.shape,  Y1_test.shape)\n",
    "print('whole set:',X1.shape)"
   ]
  },
  {
   "cell_type": "code",
   "execution_count": 165,
   "metadata": {},
   "outputs": [
    {
     "data": {
      "text/plain": [
       "LinearRegression(copy_X=True, fit_intercept=True, n_jobs=None, normalize=False)"
      ]
     },
     "execution_count": 165,
     "metadata": {},
     "output_type": "execute_result"
    }
   ],
   "source": [
    "from sklearn.linear_model import LinearRegression\n",
    "lin_reg1 = LinearRegression()  # variable and uses linear regression it has all math function\n",
    "lin_reg1.fit(X1_train,Y1_train)"
   ]
  },
  {
   "cell_type": "code",
   "execution_count": 166,
   "metadata": {},
   "outputs": [],
   "source": [
    "Y1_pred = lin_reg1.predict(np.array(X1_test))"
   ]
  },
  {
   "cell_type": "code",
   "execution_count": 167,
   "metadata": {},
   "outputs": [
    {
     "name": "stdout",
     "output_type": "stream",
     "text": [
      "[[ 0.0597903  -0.00905967  0.39582743  0.02204482 -0.03003353  0.21578749]]\n"
     ]
    }
   ],
   "source": [
    "print(lin_reg1.coef_)"
   ]
  },
  {
   "cell_type": "code",
   "execution_count": 168,
   "metadata": {},
   "outputs": [
    {
     "data": {
      "text/plain": [
       "0.9540623553457362"
      ]
     },
     "execution_count": 168,
     "metadata": {},
     "output_type": "execute_result"
    }
   ],
   "source": [
    "from sklearn.metrics import r2_score\n",
    "r2_score(Y1_test,Y1_pred)"
   ]
  },
  {
   "cell_type": "code",
   "execution_count": 177,
   "metadata": {},
   "outputs": [],
   "source": [
    "pred=[]\n",
    "for i in range(0,len(Y1_pred)):\n",
    "    dt=Y1_pred[i][0]\n",
    "    pred.append(dt)\n",
    "\n",
    "actual=[]\n",
    "test=np.asarray(Y1_test)\n",
    "for i in range(0,len(test)):\n",
    "    dt=test[i][0]\n",
    "    actual.append(dt)"
   ]
  },
  {
   "cell_type": "code",
   "execution_count": 197,
   "metadata": {},
   "outputs": [
    {
     "data": {
      "image/png": "[encoded data removed]",
      "text/plain": [
       "<Figure size 1440x720 with 1 Axes>"
      ]
     },
     "metadata": {
      "needs_background": "light"
     },
     "output_type": "display_data"
    }
   ],
   "source": [
    "barWidth = 0.4\n",
    "\n",
    "act2 =pred\n",
    "pred2 =actual\n",
    "\n",
    "r1 = np.arange(len(bars1))\n",
    "r2 = [x + barWidth for x in r1]\n",
    "plt.figure(figsize=(20, 10))\n",
    "\n",
    "plt.bar(r1, act2, color='brown', width=barWidth, edgecolor='white', label='predicted cases')\n",
    "plt.bar(r2, pred2, color='coral', width=barWidth, edgecolor='white', label='actual cases')\n",
    "\n",
    "\n",
    "plt.xlabel('DAYS', fontweight='bold')\n",
    "plt.ylabel('CASES', fontweight='bold')\n",
    "\n",
    "plt.title('PREDICTION ANALYSIS OF RECOVERED CASES : NO OF DAYS(UPTO JULY 27,2020)')\n",
    "ttl1.set_position([.5, 1.05]) \n",
    "\n",
    "\n",
    "plt.legend()\n",
    "plt.show()"
   ]
  },
  {
   "cell_type": "code",
   "execution_count": null,
   "metadata": {},
   "outputs": [],
   "source": []
  }
 ],
 "metadata": {
  "kernelspec": {
   "display_name": "Python 3",
   "language": "python",
   "name": "python3"
  },
  "language_info": {
   "codemirror_mode": {
    "name": "ipython",
    "version": 3
   },
   "file_extension": ".py",
   "mimetype": "text/x-python",
   "name": "python",
   "nbconvert_exporter": "python",
   "pygments_lexer": "ipython3",
   "version": "3.7.6"
  }
 },
 "nbformat": 4,
 "nbformat_minor": 4
}
