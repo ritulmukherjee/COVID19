{
 "cells": [
  {
   "cell_type": "code",
   "execution_count": 9,
   "metadata": {},
   "outputs": [],
   "source": [
    "name_of_state=['Andaman and Nicobar'\n",
    ",'Andhra Pradesh'\n",
    ", 'Arunachal Pradesh'\n",
    ", 'Assam'\n",
    ", 'Bihar'\n",
    ", 'Chandigarh'\n",
    ", 'Chhattisgarh'\n",
    ", 'Dadra and Nagar Haveli and Daman'\n",
    ", 'Delhi'\n",
    ", 'Goa'\n",
    ", 'Gujarat'\n",
    ", 'Haryana'\n",
    ", 'Himachal Pradesh'\n",
    ", 'Jammu and Kashmir'\n",
    ", 'Jharkhand'\n",
    ", 'Karnataka'\n",
    ", 'Kerala'\n",
    ", 'Ladakh'\n",
    ", 'Lakshadweep'\n",
    ", 'Madhya Pradesh'\n",
    ", 'Maharashtra'\n",
    ", 'Manipur'\n",
    ", 'Meghalaya'\n",
    ", 'Mizoram'\n",
    ", 'Nagaland'\n",
    ", 'Odisha'\n",
    ", 'Puducherry'\n",
    ", 'Punjab'\n",
    ", 'Rajasthan'\n",
    ", 'Sikkim'\n",
    ", 'Tamil Nadu'\n",
    ", 'Telengana'\n",
    ", 'Tripura'\n",
    ", 'Uttar Pradesh'\n",
    ", 'Uttarakhand'\n",
    ", 'West Bengal'\n",
    "]"
   ]
  },
  {
   "cell_type": "code",
   "execution_count": 19,
   "metadata": {},
   "outputs": [],
   "source": [
    "no_of_infected=[194\n",
    ",40646\n",
    ",609\n",
    ",20646\n",
    ",23589\n",
    ",660\n",
    ",4964\n",
    ",585\n",
    ",120107\n",
    ",3304\n",
    ",46430\n",
    ",24797\n",
    ",1417\n",
    ",12757\n",
    ",4921\n",
    ",55115\n",
    ",11066\n",
    ",1151\n",
    ",0\n",
    ",21081\n",
    ",292589\n",
    ",1800\n",
    ",403\n",
    ",282\n",
    ",956\n",
    ",16110\n",
    ",1832\n",
    ",9442\n",
    ",27789\n",
    ",266\n",
    ",160907\n",
    ",42496\n",
    ",2366\n",
    ",45163\n",
    ",4102\n",
    ",38011]"
   ]
  },
  {
   "cell_type": "code",
   "execution_count": 55,
   "metadata": {},
   "outputs": [
    {
     "name": "stdout",
     "output_type": "stream",
     "text": [
      "[194, 40646, 609, 20646, 23589, 660, 4964, 585, 120107, 3304, 46430, 24797, 1417, 12757, 4921, 55115, 11066, 1151, 0, 21081, 292589, 1800, 403, 282, 956, 16110, 1832, 9442, 27789, 266, 160907, 42496, 2366, 45163, 4102, 38011]\n"
     ]
    }
   ],
   "source": [
    "print(no_of_infected)"
   ]
  },
  {
   "cell_type": "code",
   "execution_count": 13,
   "metadata": {},
   "outputs": [],
   "source": [
    "no_of_recovered=[142\n",
    ",20298\n",
    ",175\n",
    ",14105\n",
    ",14621\n",
    ",480\n",
    ",3512\n",
    ",401\n",
    ",99301\n",
    ",1946\n",
    ",32973\n",
    ",18718\n",
    ",1024\n",
    ",6558\n",
    ",2570\n",
    ",20757\n",
    ",4995\n",
    ",973\n",
    ",0\n",
    ",14514\n",
    ",160357\n",
    ",1163\n",
    ",66\n",
    ",160\n",
    ",405\n",
    ",11330\n",
    ",1014\n",
    ",6373\n",
    ",20626\n",
    ",90\n",
    ",110807\n",
    ",28705\n",
    ",1684\n",
    ",27634\n",
    ",3021\n",
    ",22253]"
   ]
  },
  {
   "cell_type": "code",
   "execution_count": 25,
   "metadata": {},
   "outputs": [
    {
     "name": "stdout",
     "output_type": "stream",
     "text": [
      "{'Andaman and Nicobar': 194}\n",
      "{'Andhra Pradesh': 40646}\n",
      "{'Arunachal Pradesh': 609}\n",
      "{'Assam': 20646}\n",
      "{'Bihar': 23589}\n",
      "{'Chandigarh': 660}\n",
      "{'Chhattisgarh': 4964}\n",
      "{'Dadra and Nagar Haveli and Daman': 585}\n",
      "{'Delhi': 120107}\n",
      "{'Goa': 3304}\n",
      "{'Gujarat': 46430}\n",
      "{'Haryana': 24797}\n",
      "{'Himachal Pradesh': 1417}\n",
      "{'Jammu and Kashmir': 12757}\n",
      "{'Jharkhand': 4921}\n",
      "{'Karnataka': 55115}\n",
      "{'Kerala': 11066}\n",
      "{'Ladakh': 1151}\n",
      "{'Lakshadweep': 0}\n",
      "{'Madhya Pradesh': 21081}\n",
      "{'Maharashtra': 292589}\n",
      "{'Manipur': 1800}\n",
      "{'Meghalaya': 403}\n",
      "{'Mizoram': 282}\n",
      "{'Nagaland': 956}\n",
      "{'Odisha': 16110}\n",
      "{'Puducherry': 1832}\n",
      "{'Punjab': 9442}\n",
      "{'Rajasthan': 27789}\n",
      "{'Sikkim': 266}\n",
      "{'Tamil Nadu': 160907}\n",
      "{'Telengana': 42496}\n",
      "{'Tripura': 2366}\n",
      "{'Uttar Pradesh': 45163}\n",
      "{'Uttarakhand': 4102}\n",
      "{'West Bengal': 38011}\n"
     ]
    }
   ],
   "source": [
    "for i in range(len(name_of_state)):\n",
    "    print ({name_of_state[i]:no_of_infected[i]})"
   ]
  },
  {
   "cell_type": "code",
   "execution_count": 27,
   "metadata": {},
   "outputs": [],
   "source": [
    "population=(380581\n",
    ",49577103\n",
    ",1383727\n",
    ",31205576\n",
    ",104099452\n",
    ",1055450\n",
    ",25545198\n",
    ",585764\n",
    ",16787941\n",
    ",1458545\n",
    ",60439692\n",
    ",25351462\n",
    ",6864602\n",
    ",12267032\n",
    ",32988134\n",
    ",61095297\n",
    ",33406061\n",
    ",274000\n",
    ",64473\n",
    ",72626809\n",
    ",112374333\n",
    ",2570390\n",
    ",2966889\n",
    ",1097206\n",
    ",1978502\n",
    ",41974219\n",
    ",1247953\n",
    ",27743338\n",
    ",68548437\n",
    ",610577\n",
    ",72147030\n",
    ",35003674\n",
    ",3673917\n",
    ",199812341\n",
    ",10086292\n",
    ",91276115\n",
    ")"
   ]
  },
  {
   "cell_type": "code",
   "execution_count": 15,
   "metadata": {},
   "outputs": [],
   "source": [
    "no_of_deaths=(0\n",
    ",534\n",
    ",3\n",
    ",51\n",
    ",201\n",
    ",11\n",
    ",23\n",
    ",2\n",
    ",3571\n",
    ",21\n",
    ",2106\n",
    ",327\n",
    ",11\n",
    ",231\n",
    ",46\n",
    ",1147\n",
    ",38\n",
    ",1\n",
    ",0\n",
    ",697\n",
    ",11452\n",
    ",0\n",
    ",2\n",
    ",0\n",
    ",0\n",
    ",83\n",
    ",25\n",
    ",239\n",
    ",546\n",
    ",0\n",
    ",2315\n",
    ",403\n",
    ",3\n",
    ",1084\n",
    ",51\n",
    ",1049\n",
    ")"
   ]
  },
  {
   "cell_type": "code",
   "execution_count": 1,
   "metadata": {},
   "outputs": [
    {
     "ename": "NameError",
     "evalue": "name 'no_of_deaths' is not defined",
     "output_type": "error",
     "traceback": [
      "\u001b[1;31m---------------------------------------------------------------------------\u001b[0m",
      "\u001b[1;31mNameError\u001b[0m                                 Traceback (most recent call last)",
      "\u001b[1;32m<ipython-input-1-a754526bf0fa>\u001b[0m in \u001b[0;36m<module>\u001b[1;34m\u001b[0m\n\u001b[1;32m----> 1\u001b[1;33m \u001b[1;32mfor\u001b[0m \u001b[0mi\u001b[0m \u001b[1;32min\u001b[0m \u001b[0mrange\u001b[0m\u001b[1;33m(\u001b[0m\u001b[0mlen\u001b[0m\u001b[1;33m(\u001b[0m\u001b[0mno_of_deaths\u001b[0m\u001b[1;33m)\u001b[0m\u001b[1;33m)\u001b[0m\u001b[1;33m:\u001b[0m\u001b[1;33m\u001b[0m\u001b[1;33m\u001b[0m\u001b[0m\n\u001b[0m\u001b[0;32m      2\u001b[0m     \u001b[0mcmr\u001b[0m\u001b[1;33m=\u001b[0m\u001b[1;33m(\u001b[0m\u001b[0mno_of_deaths\u001b[0m\u001b[1;33m[\u001b[0m\u001b[0mi\u001b[0m\u001b[1;33m]\u001b[0m\u001b[1;33m/\u001b[0m\u001b[0mpopulation\u001b[0m\u001b[1;33m[\u001b[0m\u001b[0mi\u001b[0m\u001b[1;33m]\u001b[0m\u001b[1;33m)\u001b[0m\u001b[1;33m*\u001b[0m\u001b[1;36m100000\u001b[0m\u001b[1;33m\u001b[0m\u001b[1;33m\u001b[0m\u001b[0m\n\u001b[0;32m      3\u001b[0m     \u001b[0mprint\u001b[0m\u001b[1;33m=\u001b[0m\u001b[1;33m(\u001b[0m\u001b[1;33m(\u001b[0m\u001b[1;33m{\u001b[0m\u001b[0mname_of_state\u001b[0m\u001b[1;33m[\u001b[0m\u001b[0mi\u001b[0m\u001b[1;33m]\u001b[0m\u001b[1;33m:\u001b[0m\u001b[0mcmr\u001b[0m\u001b[1;33m}\u001b[0m\u001b[1;33m)\u001b[0m\u001b[1;33m)\u001b[0m\u001b[1;33m\u001b[0m\u001b[1;33m\u001b[0m\u001b[0m\n",
      "\u001b[1;31mNameError\u001b[0m: name 'no_of_deaths' is not defined"
     ]
    }
   ],
   "source": [
    "for i in range(len(no_of_deaths)):\n",
    "    cmr=(no_of_deaths[i]/population[i])*100000\n",
    "    print=(({name_of_state[i]:cmr}))"
   ]
  },
  {
   "cell_type": "code",
   "execution_count": 11,
   "metadata": {},
   "outputs": [],
   "source": [
    "no_of_active=(52\n",
    ",19814\n",
    ",431\n",
    ",6490\n",
    ",8767\n",
    ",169\n",
    ",1429\n",
    ",182\n",
    ",17235\n",
    ",1337\n",
    ",11351\n",
    ",5752\n",
    ",382\n",
    ",5968\n",
    ",2305\n",
    ",33211\n",
    ",6033\n",
    ",177\n",
    ",0\n",
    ",5870\n",
    ",120780\n",
    ",637\n",
    ",335\n",
    ",122\n",
    ",551\n",
    ",4697\n",
    ",793\n",
    ",2830\n",
    ",6617\n",
    ",176\n",
    ",47785\n",
    ",13388\n",
    ",679\n",
    ",16445\n",
    ",1030\n",
    ",14709\n",
    ")"
   ]
  },
  {
   "cell_type": "code",
   "execution_count": 1,
   "metadata": {},
   "outputs": [
    {
     "ename": "NameError",
     "evalue": "name 'no_of_active' is not defined",
     "output_type": "error",
     "traceback": [
      "\u001b[1;31m---------------------------------------------------------------------------\u001b[0m",
      "\u001b[1;31mNameError\u001b[0m                                 Traceback (most recent call last)",
      "\u001b[1;32m<ipython-input-1-60178da3558f>\u001b[0m in \u001b[0;36m<module>\u001b[1;34m\u001b[0m\n\u001b[1;32m----> 1\u001b[1;33m \u001b[1;32mfor\u001b[0m \u001b[0mi\u001b[0m \u001b[1;32min\u001b[0m \u001b[0mrange\u001b[0m\u001b[1;33m(\u001b[0m\u001b[0mlen\u001b[0m\u001b[1;33m(\u001b[0m\u001b[0mno_of_active\u001b[0m\u001b[1;33m)\u001b[0m\u001b[1;33m)\u001b[0m\u001b[1;33m:\u001b[0m\u001b[1;33m\u001b[0m\u001b[1;33m\u001b[0m\u001b[0m\n\u001b[0m\u001b[0;32m      2\u001b[0m     \u001b[1;32mif\u001b[0m \u001b[1;33m(\u001b[0m\u001b[0mno_of_active\u001b[0m\u001b[1;33m[\u001b[0m\u001b[0mi\u001b[0m\u001b[1;33m]\u001b[0m\u001b[1;33m==\u001b[0m\u001b[1;36m0\u001b[0m\u001b[1;33m)\u001b[0m\u001b[1;33m:\u001b[0m\u001b[1;33m\u001b[0m\u001b[1;33m\u001b[0m\u001b[0m\n\u001b[0;32m      3\u001b[0m         \u001b[1;32mbreak\u001b[0m\u001b[1;33m\u001b[0m\u001b[1;33m\u001b[0m\u001b[0m\n\u001b[0;32m      4\u001b[0m     \u001b[1;32melse\u001b[0m\u001b[1;33m:\u001b[0m\u001b[1;33m\u001b[0m\u001b[1;33m\u001b[0m\u001b[0m\n\u001b[0;32m      5\u001b[0m         \u001b[0mifr\u001b[0m\u001b[1;33m=\u001b[0m\u001b[1;33m(\u001b[0m\u001b[1;33m(\u001b[0m\u001b[0mno_of_deaths\u001b[0m\u001b[1;33m[\u001b[0m\u001b[0mi\u001b[0m\u001b[1;33m]\u001b[0m\u001b[1;33m/\u001b[0m\u001b[0mno_of_infected\u001b[0m\u001b[1;33m[\u001b[0m\u001b[0mi\u001b[0m\u001b[1;33m]\u001b[0m\u001b[1;33m)\u001b[0m\u001b[1;33m*\u001b[0m\u001b[1;36m100\u001b[0m\u001b[1;33m)\u001b[0m\u001b[1;33m\u001b[0m\u001b[1;33m\u001b[0m\u001b[0m\n",
      "\u001b[1;31mNameError\u001b[0m: name 'no_of_active' is not defined"
     ]
    }
   ],
   "source": [
    "for i in range(len(no_of_active)):\n",
    "    if (no_of_active[i]==0):\n",
    "        break\n",
    "    else:\n",
    "        ifr=((no_of_deaths[i]/no_of_infected[i])*100)\n",
    "        print({name_of_state[i]:ifr})"
   ]
  },
  {
   "cell_type": "code",
   "execution_count": 16,
   "metadata": {},
   "outputs": [
    {
     "name": "stdout",
     "output_type": "stream",
     "text": [
      "[194]\n",
      "[40646]\n",
      "[609]\n",
      "[20646]\n",
      "[23589]\n",
      "[660]\n",
      "[4964]\n",
      "[585]\n",
      "[120107]\n",
      "[3304]\n",
      "[46430]\n",
      "[24797]\n",
      "[1417]\n",
      "[12757]\n",
      "[4921]\n",
      "[55115]\n",
      "[11066]\n",
      "[1151]\n",
      "[0]\n",
      "[21081]\n",
      "[292589]\n",
      "[1800]\n",
      "[403]\n",
      "[282]\n",
      "[956]\n",
      "[16110]\n",
      "[1832]\n",
      "[9442]\n",
      "[27789]\n",
      "[266]\n",
      "[160907]\n",
      "[42496]\n",
      "[2366]\n",
      "[45163]\n",
      "[4102]\n",
      "[38011]\n"
     ]
    }
   ],
   "source": [
    "for i in range(len(name_of_state)):\n",
    "    list_infected_data=[no_of_active[i]+no_of_recovered[i]+no_of_deaths[i]]\n",
    "    print (list_infected_data)"
   ]
  },
  {
   "cell_type": "code",
   "execution_count": 20,
   "metadata": {},
   "outputs": [
    {
     "data": {
      "text/plain": [
       "False"
      ]
     },
     "execution_count": 20,
     "metadata": {},
     "output_type": "execute_result"
    }
   ],
   "source": [
    "(list_infected_data==no_of_infected)"
   ]
  },
  {
   "cell_type": "code",
   "execution_count": null,
   "metadata": {},
   "outputs": [],
   "source": []
  }
 ],
 "metadata": {
  "kernelspec": {
   "display_name": "Python 3",
   "language": "python",
   "name": "python3"
  },
  "language_info": {
   "codemirror_mode": {
    "name": "ipython",
    "version": 3
   },
   "file_extension": ".py",
   "mimetype": "text/x-python",
   "name": "python",
   "nbconvert_exporter": "python",
   "pygments_lexer": "ipython3",
   "version": "3.7.6"
  }
 },
 "nbformat": 4,
 "nbformat_minor": 4
}
