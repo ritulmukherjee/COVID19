{
 "cells": [
  {
   "cell_type": "code",
   "execution_count": 2,
   "metadata": {},
   "outputs": [],
   "source": [
    "def covid():\n",
    "    if (((Input2>=60) or (Input2<=10) or (Input=='Y')) & ((Input13=='Y') or (Input14=='Y') or\n",
    "                                                          (Input15=='Y')) & (Input3=='Y') & (Input4=='Y') & (Input5=='Y')):\n",
    "        print(\"As you come in the category of critical age group or have travelled recently or have serious symptoms, Rush to doctor!\")\n",
    "    elif((Input3=='Y') &(Input4=='Y') &(Input5=='Y')):\n",
    "        print(\"You have common symptoms. It can be COVID or flu. Take care!\")\n",
    "    elif((Input6=='Y') & (Input7=='Y') & (Input8=='Y') & (Input9=='Y') & (Input10=='Y') & (Input11=='Y') & (Input12=='Y')):\n",
    "        print(\"You have mild symptoms. Home quarantine is advised.\")\n",
    "    else:\n",
    "        print(\"NEXT\")\n",
    "        "
   ]
  },
  {
   "cell_type": "code",
   "execution_count": null,
   "metadata": {},
   "outputs": [
    {
     "name": "stdout",
     "output_type": "stream",
     "text": [
      "Patient No :1\n",
      "Enter your name:RITUL\n",
      "Enter your age:23\n",
      "Have you travelled from abroad recently? (Y/N)Y\n",
      "Do you have fever? (Y/N)Y\n",
      "Do you have dry cough? (Y/N)Y\n",
      "Do you have tiredness? (Y/N)Y\n",
      "Do you have aches and pains in any part of the body? (Y/N)Y\n",
      "Are you having sore throat (Y/N)Y\n",
      "Are you suffering from diarrhoea? (Y/N)Y\n",
      "Do you have conjunctivitis (Y/N)Y\n",
      "Are you having continuous headache? (Y/N)Y\n",
      "Are you suffering from the loss of taste or smell? (Y/N)Y\n",
      "Are you having rashes anywhere on the skin? (Y/N)Y\n",
      "Are you having difficulty in breathing? (Y/N)Y\n",
      "Are you suffering from chest pain (Y/N)Y\n",
      "Are you suffering from the loss of speech or movement (Y/N)Y\n",
      "As you come in the category of critical age group or have travelled recently or have serious symptoms, Rush to doctor!\n",
      "Patient No :2\n"
     ]
    }
   ],
   "source": [
    "for i in range(1,3):\n",
    "    print(\"Patient No :{}\".format(i))\n",
    "    Input1=input(\"Enter your name:\")\n",
    "    Input2=int(input(\"Enter your age:\"))\n",
    "    Input=input(\"Have you travelled from abroad recently? (Y/N)\")\n",
    "    Input3=input(\"Do you have fever? (Y/N)\")\n",
    "    Input4=input(\"Do you have dry cough? (Y/N)\")\n",
    "    Input5=input(\"Do you have tiredness? (Y/N)\")\n",
    "    Input6=input(\"Do you have aches and pains in any part of the body? (Y/N)\")\n",
    "    Input7=input(\"Are you having sore throat (Y/N)\")\n",
    "    Input8=input(\"Are you suffering from diarrhoea? (Y/N)\")\n",
    "    Input9=input(\"Do you have conjunctivitis (Y/N)\")\n",
    "    Input10=input(\"Are you having continuous headache? (Y/N)\")\n",
    "    Input11=input(\"Are you suffering from the loss of taste or smell? (Y/N)\")\n",
    "    Input12=input(\"Are you having rashes anywhere on the skin? (Y/N)\")\n",
    "    Input13=input(\"Are you having difficulty in breathing? (Y/N)\")\n",
    "    Input14=input(\"Are you suffering from chest pain (Y/N)\")\n",
    "    Input15=input(\"Are you suffering from the loss of speech or movement (Y/N)\")\n",
    "    covid()"
   ]
  },
  {
   "cell_type": "code",
   "execution_count": null,
   "metadata": {},
   "outputs": [],
   "source": []
  },
  {
   "cell_type": "code",
   "execution_count": null,
   "metadata": {},
   "outputs": [],
   "source": []
  },
  {
   "cell_type": "code",
   "execution_count": null,
   "metadata": {},
   "outputs": [],
   "source": []
  },
  {
   "cell_type": "code",
   "execution_count": null,
   "metadata": {},
   "outputs": [],
   "source": []
  },
  {
   "cell_type": "code",
   "execution_count": null,
   "metadata": {},
   "outputs": [],
   "source": []
  },
  {
   "cell_type": "code",
   "execution_count": null,
   "metadata": {},
   "outputs": [],
   "source": []
  }
 ],
 "metadata": {
  "kernelspec": {
   "display_name": "Python 3",
   "language": "python",
   "name": "python3"
  },
  "language_info": {
   "codemirror_mode": {
    "name": "ipython",
    "version": 3
   },
   "file_extension": ".py",
   "mimetype": "text/x-python",
   "name": "python",
   "nbconvert_exporter": "python",
   "pygments_lexer": "ipython3",
   "version": "3.7.6"
  }
 },
 "nbformat": 4,
 "nbformat_minor": 4
}
